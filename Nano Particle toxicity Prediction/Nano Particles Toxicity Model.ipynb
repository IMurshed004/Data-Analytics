{
 "cells": [
  {
   "cell_type": "markdown",
   "id": "4393b861-828a-46da-be82-61a3c9cc8016",
   "metadata": {},
   "source": [
    "Nano Particles Toxicity Analysis"
   ]
  },
  {
   "cell_type": "code",
   "execution_count": 67,
   "id": "83e11155-a5cc-4138-9eaa-beed0824dc03",
   "metadata": {},
   "outputs": [],
   "source": [
    "import pandas as pd\n",
    "import numpy as np\n",
    "import seaborn as sns\n",
    "import matplotlib.pyplot as plt \n",
    "from sklearn.model_selection import train_test_split, GridSearchCV\n"
   ]
  },
  {
   "cell_type": "code",
   "execution_count": 68,
   "id": "71b4665d-02cc-4ded-927d-6da3bf327516",
   "metadata": {},
   "outputs": [
    {
     "data": {
      "text/html": [
       "<div>\n",
       "<style scoped>\n",
       "    .dataframe tbody tr th:only-of-type {\n",
       "        vertical-align: middle;\n",
       "    }\n",
       "\n",
       "    .dataframe tbody tr th {\n",
       "        vertical-align: top;\n",
       "    }\n",
       "\n",
       "    .dataframe thead th {\n",
       "        text-align: right;\n",
       "    }\n",
       "</style>\n",
       "<table border=\"1\" class=\"dataframe\">\n",
       "  <thead>\n",
       "    <tr style=\"text-align: right;\">\n",
       "      <th></th>\n",
       "      <th>NPs</th>\n",
       "      <th>coresize</th>\n",
       "      <th>hydrosize</th>\n",
       "      <th>surfcharge</th>\n",
       "      <th>surfarea</th>\n",
       "      <th>Ec</th>\n",
       "      <th>Expotime</th>\n",
       "      <th>dosage</th>\n",
       "      <th>e</th>\n",
       "      <th>NOxygen</th>\n",
       "      <th>class</th>\n",
       "    </tr>\n",
       "  </thead>\n",
       "  <tbody>\n",
       "    <tr>\n",
       "      <th>0</th>\n",
       "      <td>Al2O3</td>\n",
       "      <td>39.7</td>\n",
       "      <td>267.0</td>\n",
       "      <td>36.3</td>\n",
       "      <td>64.7</td>\n",
       "      <td>-1.51</td>\n",
       "      <td>24</td>\n",
       "      <td>0.001</td>\n",
       "      <td>1.61</td>\n",
       "      <td>3</td>\n",
       "      <td>nonToxic</td>\n",
       "    </tr>\n",
       "    <tr>\n",
       "      <th>1</th>\n",
       "      <td>Al2O3</td>\n",
       "      <td>39.7</td>\n",
       "      <td>267.0</td>\n",
       "      <td>36.3</td>\n",
       "      <td>64.7</td>\n",
       "      <td>-1.51</td>\n",
       "      <td>24</td>\n",
       "      <td>0.010</td>\n",
       "      <td>1.61</td>\n",
       "      <td>3</td>\n",
       "      <td>nonToxic</td>\n",
       "    </tr>\n",
       "    <tr>\n",
       "      <th>2</th>\n",
       "      <td>Al2O3</td>\n",
       "      <td>39.7</td>\n",
       "      <td>267.0</td>\n",
       "      <td>36.3</td>\n",
       "      <td>64.7</td>\n",
       "      <td>-1.51</td>\n",
       "      <td>24</td>\n",
       "      <td>0.100</td>\n",
       "      <td>1.61</td>\n",
       "      <td>3</td>\n",
       "      <td>nonToxic</td>\n",
       "    </tr>\n",
       "    <tr>\n",
       "      <th>3</th>\n",
       "      <td>Al2O3</td>\n",
       "      <td>39.7</td>\n",
       "      <td>267.0</td>\n",
       "      <td>36.3</td>\n",
       "      <td>64.7</td>\n",
       "      <td>-1.51</td>\n",
       "      <td>24</td>\n",
       "      <td>1.000</td>\n",
       "      <td>1.61</td>\n",
       "      <td>3</td>\n",
       "      <td>nonToxic</td>\n",
       "    </tr>\n",
       "    <tr>\n",
       "      <th>4</th>\n",
       "      <td>Al2O3</td>\n",
       "      <td>39.7</td>\n",
       "      <td>267.0</td>\n",
       "      <td>36.3</td>\n",
       "      <td>64.7</td>\n",
       "      <td>-1.51</td>\n",
       "      <td>24</td>\n",
       "      <td>5.000</td>\n",
       "      <td>1.61</td>\n",
       "      <td>3</td>\n",
       "      <td>nonToxic</td>\n",
       "    </tr>\n",
       "  </tbody>\n",
       "</table>\n",
       "</div>"
      ],
      "text/plain": [
       "     NPs  coresize  hydrosize  surfcharge  surfarea    Ec  Expotime  dosage  \\\n",
       "0  Al2O3      39.7      267.0        36.3      64.7 -1.51        24   0.001   \n",
       "1  Al2O3      39.7      267.0        36.3      64.7 -1.51        24   0.010   \n",
       "2  Al2O3      39.7      267.0        36.3      64.7 -1.51        24   0.100   \n",
       "3  Al2O3      39.7      267.0        36.3      64.7 -1.51        24   1.000   \n",
       "4  Al2O3      39.7      267.0        36.3      64.7 -1.51        24   5.000   \n",
       "\n",
       "      e  NOxygen     class  \n",
       "0  1.61        3  nonToxic  \n",
       "1  1.61        3  nonToxic  \n",
       "2  1.61        3  nonToxic  \n",
       "3  1.61        3  nonToxic  \n",
       "4  1.61        3  nonToxic  "
      ]
     },
     "execution_count": 68,
     "metadata": {},
     "output_type": "execute_result"
    }
   ],
   "source": [
    "# loading the data set\n",
    "df=pd.read_csv('nanotox_dataset.csv')\n",
    "df.head()"
   ]
  },
  {
   "cell_type": "code",
   "execution_count": 69,
   "id": "a07f5600-5e3a-4899-9f1c-65835d005ac8",
   "metadata": {},
   "outputs": [
    {
     "data": {
      "text/plain": [
       "NPs           0\n",
       "coresize      0\n",
       "hydrosize     0\n",
       "surfcharge    0\n",
       "surfarea      0\n",
       "Ec            0\n",
       "Expotime      0\n",
       "dosage        0\n",
       "e             0\n",
       "NOxygen       0\n",
       "class         0\n",
       "dtype: int64"
      ]
     },
     "execution_count": 69,
     "metadata": {},
     "output_type": "execute_result"
    }
   ],
   "source": [
    "df.isnull().sum()"
   ]
  },
  {
   "cell_type": "code",
   "execution_count": 70,
   "id": "e3c61de1-fd02-4b5d-9ef1-3e35b99e59ba",
   "metadata": {},
   "outputs": [
    {
     "data": {
      "text/plain": [
       "487"
      ]
     },
     "execution_count": 70,
     "metadata": {},
     "output_type": "execute_result"
    }
   ],
   "source": [
    "df.duplicated().sum()"
   ]
  },
  {
   "cell_type": "code",
   "execution_count": 71,
   "id": "8da6526f-77c6-45a5-a04e-3828e226771c",
   "metadata": {},
   "outputs": [],
   "source": [
    "df=df.drop_duplicates()"
   ]
  },
  {
   "cell_type": "code",
   "execution_count": 72,
   "id": "7ba1e29e-09e1-4b40-bdbc-f9f12a48a447",
   "metadata": {},
   "outputs": [
    {
     "data": {
      "text/plain": [
       "(394, 11)"
      ]
     },
     "execution_count": 72,
     "metadata": {},
     "output_type": "execute_result"
    }
   ],
   "source": [
    "df.shape"
   ]
  },
  {
   "cell_type": "code",
   "execution_count": 73,
   "id": "5e43e9c6-5bff-4405-a832-9189af37ea7c",
   "metadata": {},
   "outputs": [
    {
     "data": {
      "image/png": "[encoded data removed]",
      "text/plain": [
       "<Figure size 1200x800 with 9 Axes>"
      ]
     },
     "metadata": {},
     "output_type": "display_data"
    },
    {
     "name": "stderr",
     "output_type": "stream",
     "text": [
      "C:\\Users\\User\\AppData\\Local\\Temp\\ipykernel_10792\\2320088299.py:8: FutureWarning: \n",
      "\n",
      "Passing `palette` without assigning `hue` is deprecated and will be removed in v0.14.0. Assign the `x` variable to `hue` and set `legend=False` for the same effect.\n",
      "\n",
      "  sns.countplot(x='class',data=df,palette='viridis')\n"
     ]
    },
    {
     "data": {
      "image/png": "[encoded data removed]",
      "text/plain": [
       "<Figure size 600x400 with 1 Axes>"
      ]
     },
     "metadata": {},
     "output_type": "display_data"
    }
   ],
   "source": [
    "## Feature Distribution\n",
    "\n",
    "df.hist(figsize=(12,8), bins=30)\n",
    "plt.suptitle('Feature Distributuion',fontsize=16)\n",
    "plt.show()\n",
    "\n",
    "plt.figure(figsize=(6, 4))\n",
    "sns.countplot(x='class',data=df,palette='viridis')\n",
    "\n",
    "plt.title('Class distribution')\n",
    "plt.xlabel('Çlass')\n",
    "plt.ylabel('Count')\n",
    "plt.show()"
   ]
  },
  {
   "cell_type": "code",
   "execution_count": 74,
   "id": "40f33a97-c7cb-459f-aae7-31eb97cd25ed",
   "metadata": {},
   "outputs": [],
   "source": [
    "import pickle\n",
    "from sklearn.preprocessing import LabelEncoder, StandardScaler\n",
    "#Encode categorical varibales like NPs and class\n",
    "\n",
    "label_encoders ={}\n",
    "for col in ['NPs','class']:\n",
    "    label_encoders[col]=LabelEncoder()\n",
    "    df.loc[:, col] = label_encoders[col].fit_transform(df[col]).astype('int64')\n",
    "    \n",
    "# Save label encoders for future use\n",
    "with open(\"label_encoders.pkl\", \"wb\") as f:\n",
    "    pickle.dump(label_encoders, f)"
   ]
  },
  {
   "cell_type": "code",
   "execution_count": 75,
   "id": "206d61dd-6da1-483d-b43f-37a114950afd",
   "metadata": {},
   "outputs": [],
   "source": [
    "# Scale numerical features\n",
    "scaler = StandardScaler()\n",
    "numeric_cols = df.columns[df.dtypes != \"object\"].tolist()  # Get numeric column names\n",
    "df[numeric_cols] = scaler.fit_transform(df[numeric_cols])"
   ]
  },
  {
   "cell_type": "code",
   "execution_count": 76,
   "id": "5229a652-1d74-4bbf-96e6-a62b5c7c2a9f",
   "metadata": {},
   "outputs": [
    {
     "data": {
      "text/html": [
       "<div>\n",
       "<style scoped>\n",
       "    .dataframe tbody tr th:only-of-type {\n",
       "        vertical-align: middle;\n",
       "    }\n",
       "\n",
       "    .dataframe tbody tr th {\n",
       "        vertical-align: top;\n",
       "    }\n",
       "\n",
       "    .dataframe thead th {\n",
       "        text-align: right;\n",
       "    }\n",
       "</style>\n",
       "<table border=\"1\" class=\"dataframe\">\n",
       "  <thead>\n",
       "    <tr style=\"text-align: right;\">\n",
       "      <th></th>\n",
       "      <th>NPs</th>\n",
       "      <th>coresize</th>\n",
       "      <th>hydrosize</th>\n",
       "      <th>surfcharge</th>\n",
       "      <th>surfarea</th>\n",
       "      <th>Ec</th>\n",
       "      <th>Expotime</th>\n",
       "      <th>dosage</th>\n",
       "      <th>e</th>\n",
       "      <th>NOxygen</th>\n",
       "      <th>class</th>\n",
       "    </tr>\n",
       "  </thead>\n",
       "  <tbody>\n",
       "    <tr>\n",
       "      <th>0</th>\n",
       "      <td>0</td>\n",
       "      <td>-0.395962</td>\n",
       "      <td>-0.751602</td>\n",
       "      <td>1.328941</td>\n",
       "      <td>0.31775</td>\n",
       "      <td>3.773641</td>\n",
       "      <td>-0.100883</td>\n",
       "      <td>-0.767817</td>\n",
       "      <td>-0.306042</td>\n",
       "      <td>2.295929</td>\n",
       "      <td>1</td>\n",
       "    </tr>\n",
       "    <tr>\n",
       "      <th>1</th>\n",
       "      <td>0</td>\n",
       "      <td>-0.395962</td>\n",
       "      <td>-0.751602</td>\n",
       "      <td>1.328941</td>\n",
       "      <td>0.31775</td>\n",
       "      <td>3.773641</td>\n",
       "      <td>-0.100883</td>\n",
       "      <td>-0.767593</td>\n",
       "      <td>-0.306042</td>\n",
       "      <td>2.295929</td>\n",
       "      <td>1</td>\n",
       "    </tr>\n",
       "    <tr>\n",
       "      <th>2</th>\n",
       "      <td>0</td>\n",
       "      <td>-0.395962</td>\n",
       "      <td>-0.751602</td>\n",
       "      <td>1.328941</td>\n",
       "      <td>0.31775</td>\n",
       "      <td>3.773641</td>\n",
       "      <td>-0.100883</td>\n",
       "      <td>-0.765356</td>\n",
       "      <td>-0.306042</td>\n",
       "      <td>2.295929</td>\n",
       "      <td>1</td>\n",
       "    </tr>\n",
       "    <tr>\n",
       "      <th>3</th>\n",
       "      <td>0</td>\n",
       "      <td>-0.395962</td>\n",
       "      <td>-0.751602</td>\n",
       "      <td>1.328941</td>\n",
       "      <td>0.31775</td>\n",
       "      <td>3.773641</td>\n",
       "      <td>-0.100883</td>\n",
       "      <td>-0.742985</td>\n",
       "      <td>-0.306042</td>\n",
       "      <td>2.295929</td>\n",
       "      <td>1</td>\n",
       "    </tr>\n",
       "    <tr>\n",
       "      <th>4</th>\n",
       "      <td>0</td>\n",
       "      <td>-0.395962</td>\n",
       "      <td>-0.751602</td>\n",
       "      <td>1.328941</td>\n",
       "      <td>0.31775</td>\n",
       "      <td>3.773641</td>\n",
       "      <td>-0.100883</td>\n",
       "      <td>-0.643559</td>\n",
       "      <td>-0.306042</td>\n",
       "      <td>2.295929</td>\n",
       "      <td>1</td>\n",
       "    </tr>\n",
       "  </tbody>\n",
       "</table>\n",
       "</div>"
      ],
      "text/plain": [
       "  NPs  coresize  hydrosize  surfcharge  surfarea        Ec  Expotime  \\\n",
       "0   0 -0.395962  -0.751602    1.328941   0.31775  3.773641 -0.100883   \n",
       "1   0 -0.395962  -0.751602    1.328941   0.31775  3.773641 -0.100883   \n",
       "2   0 -0.395962  -0.751602    1.328941   0.31775  3.773641 -0.100883   \n",
       "3   0 -0.395962  -0.751602    1.328941   0.31775  3.773641 -0.100883   \n",
       "4   0 -0.395962  -0.751602    1.328941   0.31775  3.773641 -0.100883   \n",
       "\n",
       "     dosage         e   NOxygen class  \n",
       "0 -0.767817 -0.306042  2.295929     1  \n",
       "1 -0.767593 -0.306042  2.295929     1  \n",
       "2 -0.765356 -0.306042  2.295929     1  \n",
       "3 -0.742985 -0.306042  2.295929     1  \n",
       "4 -0.643559 -0.306042  2.295929     1  "
      ]
     },
     "execution_count": 76,
     "metadata": {},
     "output_type": "execute_result"
    }
   ],
   "source": [
    "df.head()"
   ]
  },
  {
   "cell_type": "markdown",
   "id": "aebb33dc-53a6-495d-a41b-7a4d4219b088",
   "metadata": {},
   "source": [
    "Preprocessing Done"
   ]
  },
  {
   "cell_type": "code",
   "execution_count": 77,
   "id": "d78ae0eb-c1b0-4489-9493-c957481ac9d7",
   "metadata": {},
   "outputs": [
    {
     "name": "stdout",
     "output_type": "stream",
     "text": [
      "X_train shape: (315, 10), X_test shape: (79, 10)\n",
      "y_train shape: (315,), y_test shape: (79,)\n"
     ]
    }
   ],
   "source": [
    "from sklearn.model_selection import train_test_split\n",
    "X=df.drop(columns=['class'])\n",
    "y=df['class']\n",
    "X_train, X_test, y_train, y_test = train_test_split(X, y, test_size=0.2, random_state=42, stratify=y)\n",
    "# Check the shape\n",
    "print(f\"X_train shape: {X_train.shape}, X_test shape: {X_test.shape}\")\n",
    "print(f\"y_train shape: {y_train.shape}, y_test shape: {y_test.shape}\")"
   ]
  },
  {
   "cell_type": "code",
   "execution_count": 78,
   "id": "3c04ce89-1a2e-4189-b46d-20f075b86ccd",
   "metadata": {},
   "outputs": [
    {
     "data": {
      "text/html": [
       "<div>\n",
       "<style scoped>\n",
       "    .dataframe tbody tr th:only-of-type {\n",
       "        vertical-align: middle;\n",
       "    }\n",
       "\n",
       "    .dataframe tbody tr th {\n",
       "        vertical-align: top;\n",
       "    }\n",
       "\n",
       "    .dataframe thead th {\n",
       "        text-align: right;\n",
       "    }\n",
       "</style>\n",
       "<table border=\"1\" class=\"dataframe\">\n",
       "  <thead>\n",
       "    <tr style=\"text-align: right;\">\n",
       "      <th></th>\n",
       "      <th>NPs</th>\n",
       "      <th>coresize</th>\n",
       "      <th>hydrosize</th>\n",
       "      <th>surfcharge</th>\n",
       "      <th>surfarea</th>\n",
       "      <th>Ec</th>\n",
       "      <th>Expotime</th>\n",
       "      <th>dosage</th>\n",
       "      <th>e</th>\n",
       "      <th>NOxygen</th>\n",
       "    </tr>\n",
       "  </thead>\n",
       "  <tbody>\n",
       "    <tr>\n",
       "      <th>308</th>\n",
       "      <td>4</td>\n",
       "      <td>1.508473</td>\n",
       "      <td>-0.736235</td>\n",
       "      <td>-0.538201</td>\n",
       "      <td>-0.584651</td>\n",
       "      <td>0.169829</td>\n",
       "      <td>1.103597</td>\n",
       "      <td>-0.270709</td>\n",
       "      <td>0.105496</td>\n",
       "      <td>-0.744730</td>\n",
       "    </tr>\n",
       "    <tr>\n",
       "      <th>318</th>\n",
       "      <td>4</td>\n",
       "      <td>1.508473</td>\n",
       "      <td>-0.736235</td>\n",
       "      <td>-0.538201</td>\n",
       "      <td>-0.584651</td>\n",
       "      <td>0.169829</td>\n",
       "      <td>-0.100883</td>\n",
       "      <td>-0.146425</td>\n",
       "      <td>0.105496</td>\n",
       "      <td>-0.744730</td>\n",
       "    </tr>\n",
       "    <tr>\n",
       "      <th>445</th>\n",
       "      <td>4</td>\n",
       "      <td>-0.639148</td>\n",
       "      <td>1.231624</td>\n",
       "      <td>0.757128</td>\n",
       "      <td>-0.241456</td>\n",
       "      <td>0.169829</td>\n",
       "      <td>2.308076</td>\n",
       "      <td>0.474992</td>\n",
       "      <td>0.105496</td>\n",
       "      <td>-0.744730</td>\n",
       "    </tr>\n",
       "    <tr>\n",
       "      <th>416</th>\n",
       "      <td>4</td>\n",
       "      <td>-0.007495</td>\n",
       "      <td>0.143971</td>\n",
       "      <td>1.060539</td>\n",
       "      <td>-0.685591</td>\n",
       "      <td>0.169829</td>\n",
       "      <td>-0.703123</td>\n",
       "      <td>-0.146425</td>\n",
       "      <td>0.105496</td>\n",
       "      <td>-0.744730</td>\n",
       "    </tr>\n",
       "    <tr>\n",
       "      <th>63</th>\n",
       "      <td>3</td>\n",
       "      <td>-0.860227</td>\n",
       "      <td>-0.181364</td>\n",
       "      <td>-0.499302</td>\n",
       "      <td>3.251058</td>\n",
       "      <td>-0.239006</td>\n",
       "      <td>-1.004242</td>\n",
       "      <td>-0.270709</td>\n",
       "      <td>-1.026233</td>\n",
       "      <td>0.775599</td>\n",
       "    </tr>\n",
       "    <tr>\n",
       "      <th>...</th>\n",
       "      <td>...</td>\n",
       "      <td>...</td>\n",
       "      <td>...</td>\n",
       "      <td>...</td>\n",
       "      <td>...</td>\n",
       "      <td>...</td>\n",
       "      <td>...</td>\n",
       "      <td>...</td>\n",
       "      <td>...</td>\n",
       "      <td>...</td>\n",
       "    </tr>\n",
       "    <tr>\n",
       "      <th>255</th>\n",
       "      <td>4</td>\n",
       "      <td>-0.219099</td>\n",
       "      <td>-0.648359</td>\n",
       "      <td>1.188905</td>\n",
       "      <td>-0.558407</td>\n",
       "      <td>0.169829</td>\n",
       "      <td>-0.100883</td>\n",
       "      <td>-0.270709</td>\n",
       "      <td>0.105496</td>\n",
       "      <td>-0.744730</td>\n",
       "    </tr>\n",
       "    <tr>\n",
       "      <th>274</th>\n",
       "      <td>4</td>\n",
       "      <td>1.982213</td>\n",
       "      <td>-0.192169</td>\n",
       "      <td>-0.433175</td>\n",
       "      <td>-0.695685</td>\n",
       "      <td>0.169829</td>\n",
       "      <td>-0.100883</td>\n",
       "      <td>-0.022142</td>\n",
       "      <td>0.105496</td>\n",
       "      <td>-0.744730</td>\n",
       "    </tr>\n",
       "    <tr>\n",
       "      <th>405</th>\n",
       "      <td>4</td>\n",
       "      <td>-0.007495</td>\n",
       "      <td>0.143971</td>\n",
       "      <td>1.060539</td>\n",
       "      <td>-0.685591</td>\n",
       "      <td>0.169829</td>\n",
       "      <td>-0.100883</td>\n",
       "      <td>-0.729066</td>\n",
       "      <td>0.105496</td>\n",
       "      <td>-0.744730</td>\n",
       "    </tr>\n",
       "    <tr>\n",
       "      <th>477</th>\n",
       "      <td>4</td>\n",
       "      <td>-0.525451</td>\n",
       "      <td>-0.826033</td>\n",
       "      <td>-1.701275</td>\n",
       "      <td>-0.425166</td>\n",
       "      <td>0.169829</td>\n",
       "      <td>1.103597</td>\n",
       "      <td>-0.765356</td>\n",
       "      <td>0.105496</td>\n",
       "      <td>-0.744730</td>\n",
       "    </tr>\n",
       "    <tr>\n",
       "      <th>188</th>\n",
       "      <td>3</td>\n",
       "      <td>-1.333967</td>\n",
       "      <td>2.105587</td>\n",
       "      <td>-0.510972</td>\n",
       "      <td>2.362789</td>\n",
       "      <td>-0.239006</td>\n",
       "      <td>-0.100883</td>\n",
       "      <td>1.717825</td>\n",
       "      <td>-1.026233</td>\n",
       "      <td>0.775599</td>\n",
       "    </tr>\n",
       "  </tbody>\n",
       "</table>\n",
       "<p>315 rows × 10 columns</p>\n",
       "</div>"
      ],
      "text/plain": [
       "    NPs  coresize  hydrosize  surfcharge  surfarea        Ec  Expotime  \\\n",
       "308   4  1.508473  -0.736235   -0.538201 -0.584651  0.169829  1.103597   \n",
       "318   4  1.508473  -0.736235   -0.538201 -0.584651  0.169829 -0.100883   \n",
       "445   4 -0.639148   1.231624    0.757128 -0.241456  0.169829  2.308076   \n",
       "416   4 -0.007495   0.143971    1.060539 -0.685591  0.169829 -0.703123   \n",
       "63    3 -0.860227  -0.181364   -0.499302  3.251058 -0.239006 -1.004242   \n",
       "..   ..       ...        ...         ...       ...       ...       ...   \n",
       "255   4 -0.219099  -0.648359    1.188905 -0.558407  0.169829 -0.100883   \n",
       "274   4  1.982213  -0.192169   -0.433175 -0.695685  0.169829 -0.100883   \n",
       "405   4 -0.007495   0.143971    1.060539 -0.685591  0.169829 -0.100883   \n",
       "477   4 -0.525451  -0.826033   -1.701275 -0.425166  0.169829  1.103597   \n",
       "188   3 -1.333967   2.105587   -0.510972  2.362789 -0.239006 -0.100883   \n",
       "\n",
       "       dosage         e   NOxygen  \n",
       "308 -0.270709  0.105496 -0.744730  \n",
       "318 -0.146425  0.105496 -0.744730  \n",
       "445  0.474992  0.105496 -0.744730  \n",
       "416 -0.146425  0.105496 -0.744730  \n",
       "63  -0.270709 -1.026233  0.775599  \n",
       "..        ...       ...       ...  \n",
       "255 -0.270709  0.105496 -0.744730  \n",
       "274 -0.022142  0.105496 -0.744730  \n",
       "405 -0.729066  0.105496 -0.744730  \n",
       "477 -0.765356  0.105496 -0.744730  \n",
       "188  1.717825 -1.026233  0.775599  \n",
       "\n",
       "[315 rows x 10 columns]"
      ]
     },
     "execution_count": 78,
     "metadata": {},
     "output_type": "execute_result"
    }
   ],
   "source": [
    "X_train"
   ]
  },
  {
   "cell_type": "code",
   "execution_count": 96,
   "id": "ff9a7470-d239-41b7-9b1e-184c9fb0523a",
   "metadata": {},
   "outputs": [
    {
     "data": {
      "text/html": [
       "<div>\n",
       "<style scoped>\n",
       "    .dataframe tbody tr th:only-of-type {\n",
       "        vertical-align: middle;\n",
       "    }\n",
       "\n",
       "    .dataframe tbody tr th {\n",
       "        vertical-align: top;\n",
       "    }\n",
       "\n",
       "    .dataframe thead th {\n",
       "        text-align: right;\n",
       "    }\n",
       "</style>\n",
       "<table border=\"1\" class=\"dataframe\">\n",
       "  <thead>\n",
       "    <tr style=\"text-align: right;\">\n",
       "      <th></th>\n",
       "      <th>NPs</th>\n",
       "      <th>coresize</th>\n",
       "      <th>hydrosize</th>\n",
       "      <th>surfcharge</th>\n",
       "      <th>surfarea</th>\n",
       "      <th>Ec</th>\n",
       "      <th>Expotime</th>\n",
       "      <th>dosage</th>\n",
       "      <th>e</th>\n",
       "      <th>NOxygen</th>\n",
       "    </tr>\n",
       "  </thead>\n",
       "  <tbody>\n",
       "    <tr>\n",
       "      <th>423</th>\n",
       "      <td>4</td>\n",
       "      <td>-1.412924</td>\n",
       "      <td>0.516126</td>\n",
       "      <td>0.982741</td>\n",
       "      <td>0.828505</td>\n",
       "      <td>0.169829</td>\n",
       "      <td>2.308076</td>\n",
       "      <td>-0.146425</td>\n",
       "      <td>0.105496</td>\n",
       "      <td>-0.744730</td>\n",
       "    </tr>\n",
       "    <tr>\n",
       "      <th>386</th>\n",
       "      <td>4</td>\n",
       "      <td>1.066316</td>\n",
       "      <td>0.256818</td>\n",
       "      <td>1.134447</td>\n",
       "      <td>-0.847094</td>\n",
       "      <td>0.169829</td>\n",
       "      <td>-0.100883</td>\n",
       "      <td>-0.612488</td>\n",
       "      <td>0.105496</td>\n",
       "      <td>-0.744730</td>\n",
       "    </tr>\n",
       "    <tr>\n",
       "      <th>41</th>\n",
       "      <td>2</td>\n",
       "      <td>-0.307530</td>\n",
       "      <td>0.905088</td>\n",
       "      <td>-0.402056</td>\n",
       "      <td>0.683152</td>\n",
       "      <td>-1.495798</td>\n",
       "      <td>-0.100883</td>\n",
       "      <td>-0.519275</td>\n",
       "      <td>1.957416</td>\n",
       "      <td>2.295929</td>\n",
       "    </tr>\n",
       "    <tr>\n",
       "      <th>168</th>\n",
       "      <td>3</td>\n",
       "      <td>-0.386487</td>\n",
       "      <td>-0.618826</td>\n",
       "      <td>-1.066058</td>\n",
       "      <td>0.020987</td>\n",
       "      <td>-0.239006</td>\n",
       "      <td>-0.100883</td>\n",
       "      <td>-0.767842</td>\n",
       "      <td>-1.026233</td>\n",
       "      <td>0.775599</td>\n",
       "    </tr>\n",
       "    <tr>\n",
       "      <th>429</th>\n",
       "      <td>4</td>\n",
       "      <td>-1.412924</td>\n",
       "      <td>0.516126</td>\n",
       "      <td>0.982741</td>\n",
       "      <td>0.828505</td>\n",
       "      <td>0.169829</td>\n",
       "      <td>-0.100883</td>\n",
       "      <td>-0.457134</td>\n",
       "      <td>0.105496</td>\n",
       "      <td>-0.744730</td>\n",
       "    </tr>\n",
       "    <tr>\n",
       "      <th>...</th>\n",
       "      <td>...</td>\n",
       "      <td>...</td>\n",
       "      <td>...</td>\n",
       "      <td>...</td>\n",
       "      <td>...</td>\n",
       "      <td>...</td>\n",
       "      <td>...</td>\n",
       "      <td>...</td>\n",
       "      <td>...</td>\n",
       "      <td>...</td>\n",
       "    </tr>\n",
       "    <tr>\n",
       "      <th>287</th>\n",
       "      <td>4</td>\n",
       "      <td>0.245166</td>\n",
       "      <td>-0.602740</td>\n",
       "      <td>-0.444844</td>\n",
       "      <td>-0.840230</td>\n",
       "      <td>0.169829</td>\n",
       "      <td>-0.100883</td>\n",
       "      <td>-0.767842</td>\n",
       "      <td>0.105496</td>\n",
       "      <td>-0.744730</td>\n",
       "    </tr>\n",
       "    <tr>\n",
       "      <th>198</th>\n",
       "      <td>3</td>\n",
       "      <td>-0.544400</td>\n",
       "      <td>2.962744</td>\n",
       "      <td>-1.463992</td>\n",
       "      <td>0.343994</td>\n",
       "      <td>-0.239006</td>\n",
       "      <td>-0.703123</td>\n",
       "      <td>-0.146425</td>\n",
       "      <td>-1.026233</td>\n",
       "      <td>0.775599</td>\n",
       "    </tr>\n",
       "    <tr>\n",
       "      <th>325</th>\n",
       "      <td>4</td>\n",
       "      <td>1.508473</td>\n",
       "      <td>-0.736235</td>\n",
       "      <td>-0.538201</td>\n",
       "      <td>-0.584651</td>\n",
       "      <td>0.169829</td>\n",
       "      <td>-1.004242</td>\n",
       "      <td>-0.394992</td>\n",
       "      <td>0.105496</td>\n",
       "      <td>-0.744730</td>\n",
       "    </tr>\n",
       "    <tr>\n",
       "      <th>201</th>\n",
       "      <td>3</td>\n",
       "      <td>-0.702314</td>\n",
       "      <td>3.032373</td>\n",
       "      <td>-1.281168</td>\n",
       "      <td>0.404558</td>\n",
       "      <td>-0.239006</td>\n",
       "      <td>2.308076</td>\n",
       "      <td>-0.612488</td>\n",
       "      <td>-1.026233</td>\n",
       "      <td>0.775599</td>\n",
       "    </tr>\n",
       "    <tr>\n",
       "      <th>719</th>\n",
       "      <td>1</td>\n",
       "      <td>-0.639148</td>\n",
       "      <td>1.231624</td>\n",
       "      <td>0.757128</td>\n",
       "      <td>-0.241456</td>\n",
       "      <td>0.169829</td>\n",
       "      <td>-0.100883</td>\n",
       "      <td>0.474992</td>\n",
       "      <td>0.105496</td>\n",
       "      <td>-0.744730</td>\n",
       "    </tr>\n",
       "  </tbody>\n",
       "</table>\n",
       "<p>79 rows × 10 columns</p>\n",
       "</div>"
      ],
      "text/plain": [
       "    NPs  coresize  hydrosize  surfcharge  surfarea        Ec  Expotime  \\\n",
       "423   4 -1.412924   0.516126    0.982741  0.828505  0.169829  2.308076   \n",
       "386   4  1.066316   0.256818    1.134447 -0.847094  0.169829 -0.100883   \n",
       "41    2 -0.307530   0.905088   -0.402056  0.683152 -1.495798 -0.100883   \n",
       "168   3 -0.386487  -0.618826   -1.066058  0.020987 -0.239006 -0.100883   \n",
       "429   4 -1.412924   0.516126    0.982741  0.828505  0.169829 -0.100883   \n",
       "..   ..       ...        ...         ...       ...       ...       ...   \n",
       "287   4  0.245166  -0.602740   -0.444844 -0.840230  0.169829 -0.100883   \n",
       "198   3 -0.544400   2.962744   -1.463992  0.343994 -0.239006 -0.703123   \n",
       "325   4  1.508473  -0.736235   -0.538201 -0.584651  0.169829 -1.004242   \n",
       "201   3 -0.702314   3.032373   -1.281168  0.404558 -0.239006  2.308076   \n",
       "719   1 -0.639148   1.231624    0.757128 -0.241456  0.169829 -0.100883   \n",
       "\n",
       "       dosage         e   NOxygen  \n",
       "423 -0.146425  0.105496 -0.744730  \n",
       "386 -0.612488  0.105496 -0.744730  \n",
       "41  -0.519275  1.957416  2.295929  \n",
       "168 -0.767842 -1.026233  0.775599  \n",
       "429 -0.457134  0.105496 -0.744730  \n",
       "..        ...       ...       ...  \n",
       "287 -0.767842  0.105496 -0.744730  \n",
       "198 -0.146425 -1.026233  0.775599  \n",
       "325 -0.394992  0.105496 -0.744730  \n",
       "201 -0.612488 -1.026233  0.775599  \n",
       "719  0.474992  0.105496 -0.744730  \n",
       "\n",
       "[79 rows x 10 columns]"
      ]
     },
     "execution_count": 96,
     "metadata": {},
     "output_type": "execute_result"
    }
   ],
   "source": [
    "X_test"
   ]
  },
  {
   "cell_type": "code",
   "execution_count": 79,
   "id": "f10bb95b-1e18-49a7-a663-47b5fa3eb027",
   "metadata": {},
   "outputs": [],
   "source": [
    "from sklearn.ensemble import RandomForestRegressor\n",
    "import pandas as pd\n",
    "\n",
    "rf_model = RandomForestRegressor()\n",
    "rf_model.fit(X_train, y_train)\n",
    "\n",
    "# Convert y_train to a Pandas Series\n",
    "y_train_series = pd.Series(y_train)\n",
    "\n"
   ]
  },
  {
   "cell_type": "code",
   "execution_count": 80,
   "id": "74cda0d1-26af-4955-9fde-85b5b4be13d6",
   "metadata": {},
   "outputs": [
    {
     "name": "stdout",
     "output_type": "stream",
     "text": [
      "Training Accuracy: 0.9060\n",
      "Testing Accuracy: 0.7030\n"
     ]
    }
   ],
   "source": [
    "from sklearn.ensemble import RandomForestClassifier\n",
    "\n",
    "# Initialize the model\n",
    "rf_model = RandomForestRegressor(n_estimators=100, random_state=42)\n",
    "\n",
    "# Train the model\n",
    "rf_model.fit(X_train, y_train)\n",
    "\n",
    "# Check training and testing accuracy\n",
    "train_accuracy = rf_model.score(X_train, y_train)\n",
    "test_accuracy = rf_model.score(X_test, y_test)\n",
    "\n",
    "print(f\"Training Accuracy: {train_accuracy:.4f}\")\n",
    "print(f\"Testing Accuracy: {test_accuracy:.4f}\")"
   ]
  },
  {
   "cell_type": "code",
   "execution_count": 86,
   "id": "c881fed3-06f4-461f-bc77-97d4d773ea91",
   "metadata": {},
   "outputs": [],
   "source": [
    "y_train=y_train_series.astype('int64') "
   ]
  },
  {
   "cell_type": "code",
   "execution_count": 89,
   "id": "c9326323-7f87-4ccb-8b7f-136c54741142",
   "metadata": {},
   "outputs": [],
   "source": [
    "y_test=y_test.astype('int64') "
   ]
  },
  {
   "cell_type": "code",
   "execution_count": 87,
   "id": "dd446338-3e67-45ce-bfc3-1415dd081fdb",
   "metadata": {},
   "outputs": [
    {
     "data": {
      "text/plain": [
       "308    1\n",
       "318    1\n",
       "445    0\n",
       "416    1\n",
       "63     1\n",
       "      ..\n",
       "255    0\n",
       "274    1\n",
       "405    1\n",
       "477    1\n",
       "188    1\n",
       "Name: class, Length: 315, dtype: int64"
      ]
     },
     "execution_count": 87,
     "metadata": {},
     "output_type": "execute_result"
    }
   ],
   "source": [
    "y_train"
   ]
  },
  {
   "cell_type": "code",
   "execution_count": 90,
   "id": "2f4e6887-f802-4718-b5dd-ae1789207aa9",
   "metadata": {},
   "outputs": [
    {
     "name": "stdout",
     "output_type": "stream",
     "text": [
      "Best Parameters: {'max_depth': None, 'min_samples_leaf': 1, 'min_samples_split': 10, 'n_estimators': 200}\n",
      "Optimized Model Accuracy: 0.9240506329113924\n"
     ]
    }
   ],
   "source": [
    "from sklearn.model_selection import GridSearchCV\n",
    "\n",
    "# Define hyperparameter grid\n",
    "param_grid = {\n",
    "    \"n_estimators\": [50, 100, 200],\n",
    "    \"max_depth\": [None, 10, 20],\n",
    "    \"min_samples_split\": [2, 5, 10],\n",
    "    \"min_samples_leaf\": [1, 2, 4]\n",
    "}\n",
    "\n",
    "# Initialize Grid Search\n",
    "grid_search = GridSearchCV(RandomForestClassifier(random_state=42), param_grid, cv=3, scoring=\"accuracy\", n_jobs=-1)\n",
    "\n",
    "# Fit the model\n",
    "grid_search.fit(X_train, y_train)\n",
    "\n",
    "# Get best parameters\n",
    "print(\"Best Parameters:\", grid_search.best_params_)\n",
    "\n",
    "# Train best model\n",
    "best_rf = grid_search.best_estimator_\n",
    "best_rf.fit(X_train, y_train)\n",
    "\n",
    "# Evaluate again\n",
    "print(\"Optimized Model Accuracy:\", best_rf.score(X_test, y_test))"
   ]
  },
  {
   "cell_type": "code",
   "execution_count": 93,
   "id": "82fbcfb2-2ec3-4e41-bbe9-2c17a8ef0dd8",
   "metadata": {},
   "outputs": [
    {
     "data": {
      "image/png": "[encoded data removed]",
      "text/plain": [
       "<Figure size 600x400 with 2 Axes>"
      ]
     },
     "metadata": {},
     "output_type": "display_data"
    }
   ],
   "source": [
    "\n",
    "# Extract results from GridSearchCV\n",
    "results = grid_search.cv_results_\n",
    "\n",
    "# Create a dataframe from the results for easy manipulation\n",
    "results_df = pd.DataFrame(results)\n",
    "\n",
    "scores_pivot = results_df.pivot_table(\n",
    "    index='param_n_estimators',\n",
    "    columns='param_max_depth',\n",
    "    values='mean_test_score'\n",
    ")\n",
    "\n",
    "# Create the heatmap\n",
    "plt.figure(figsize=(6, 4))\n",
    "# You can use 'scores_pivot' directly with seaborn's heatmap or matplotlib's imshow\n",
    "import seaborn as sns\n",
    "sns.heatmap(scores_pivot, annot=True, cmap='viridis', fmt=\".4f\")\n",
    "\n",
    "plt.title('Grid Search Accuracy Heatmap (n_estimators vs max_depth)')\n",
    "plt.xlabel('max_depth')\n",
    "plt.ylabel('n_estimators')\n",
    "plt.show()\n"
   ]
  },
  {
   "cell_type": "code",
   "execution_count": 94,
   "id": "50d205aa-a8b4-4a2e-9ad2-7067c30bb92f",
   "metadata": {},
   "outputs": [
    {
     "name": "stdout",
     "output_type": "stream",
     "text": [
      "Optimized Model Training Accuracy: 0.9524\n",
      "Optimized model saved successfully!\n"
     ]
    }
   ],
   "source": [
    "# Train the best model after hyperparameter tuning\n",
    "best_rf_model = RandomForestClassifier(**grid_search.best_params_, random_state=42)\n",
    "best_rf_model.fit(X_train, y_train)\n",
    "\n",
    "# Calculate training accuracy for the optimized model\n",
    "train_accuracy_optimized = best_rf_model.score(X_train, y_train)\n",
    "print(f\"Optimized Model Training Accuracy: {train_accuracy_optimized:.4f}\")\n",
    "\n",
    "# Save the optimized model\n",
    "import pickle\n",
    "with open(\"optimized_rf_model.pkl\", \"wb\") as f:\n",
    "    pickle.dump(best_rf_model, f)\n",
    "\n",
    "print(\"Optimized model saved successfully!\")"
   ]
  },
  {
   "cell_type": "code",
   "execution_count": 95,
   "id": "02bae15d-89cf-4b98-afa2-30e5b0b8d0a7",
   "metadata": {},
   "outputs": [
    {
     "name": "stdout",
     "output_type": "stream",
     "text": [
      "Predicted Class: [0]\n"
     ]
    }
   ],
   "source": [
    "# Load the saved model\n",
    "with open(\"optimized_rf_model.pkl\", \"rb\") as f:\n",
    "    loaded_model = pickle.load(f)\n",
    "\n",
    "# Test with new data\n",
    "sample = X_test.iloc[0:1]  # Take one sample from test set\n",
    "prediction = loaded_model.predict(sample)\n",
    "print(\"Predicted Class:\", prediction)"
   ]
  },
  {
   "cell_type": "code",
   "execution_count": 98,
   "id": "4a20828e-d8d3-46d0-ae64-daccf43c4d80",
   "metadata": {},
   "outputs": [
    {
     "name": "stdout",
     "output_type": "stream",
     "text": [
      "Test Accuracy: 0.9241\n"
     ]
    }
   ],
   "source": [
    "# calculating testing accuracy \n",
    "from sklearn.metrics import accuracy_score\n",
    "\n",
    "with open(\"optimized_rf_model.pkl\", \"rb\") as f:\n",
    "    loaded_model = pickle.load(f)\n",
    "\n",
    "# Predict on the test set\n",
    "y_pred = loaded_model.predict(X_test)\n",
    "\n",
    "# Calculate test accuracy\n",
    "test_accuracy = accuracy_score(y_test, y_pred)\n",
    "print(f\"Test Accuracy: {test_accuracy:.4f}\")"
   ]
  },
  {
   "cell_type": "code",
   "execution_count": 99,
   "id": "33eec83d-03f6-4492-864a-1d52436c3e96",
   "metadata": {},
   "outputs": [
    {
     "data": {
      "image/png": "[encoded data removed]",
      "text/plain": [
       "<Figure size 800x600 with 2 Axes>"
      ]
     },
     "metadata": {},
     "output_type": "display_data"
    },
    {
     "name": "stdout",
     "output_type": "stream",
     "text": [
      "Classification Report:\n",
      "               precision    recall  f1-score   support\n",
      "\n",
      "           0       0.85      0.85      0.85        20\n",
      "           1       0.95      0.95      0.95        59\n",
      "\n",
      "    accuracy                           0.92        79\n",
      "   macro avg       0.90      0.90      0.90        79\n",
      "weighted avg       0.92      0.92      0.92        79\n",
      "\n",
      "Confusion Matrix:\n",
      " [[17  3]\n",
      " [ 3 56]]\n"
     ]
    }
   ],
   "source": [
    "from sklearn.metrics import classification_report, confusion_matrix\n",
    "\n",
    "# Get predictions\n",
    "y_pred = loaded_model.predict(X_test)\n",
    "\n",
    "# Confusion Matrix\n",
    "conf_matrix = confusion_matrix(y_test, y_pred)\n",
    "plt.figure(figsize=(8, 6))\n",
    "sns.heatmap(conf_matrix, annot=True, fmt=\"d\", cmap=\"Blues\", xticklabels=[\"Non-Toxic\", \"Toxic\"], yticklabels=[\"Non-Toxic\", \"Toxic\"])\n",
    "plt.xlabel(\"Predicted\")\n",
    "plt.ylabel(\"Actual\")\n",
    "plt.title(\"Confusion Matrix\")\n",
    "plt.show()\n",
    "\n",
    "# Print detailed evaluation report\n",
    "print(\"Classification Report:\\n\", classification_report(y_test, y_pred))\n",
    "\n",
    "# Print confusion matrix\n",
    "print(\"Confusion Matrix:\\n\", confusion_matrix(y_test, y_pred))"
   ]
  },
  {
   "cell_type": "code",
   "execution_count": 101,
   "id": "cf4143ba-af64-4456-9dfb-4786f0394586",
   "metadata": {},
   "outputs": [
    {
     "data": {
      "image/png": "[encoded data removed]",
      "text/plain": [
       "<Figure size 800x600 with 1 Axes>"
      ]
     },
     "metadata": {},
     "output_type": "display_data"
    }
   ],
   "source": [
    "import matplotlib.pyplot as plt\n",
    "import numpy as np\n",
    "\n",
    "# Get feature importances\n",
    "feature_importances = loaded_model.feature_importances_\n",
    "\n",
    "# Create a bar chart\n",
    "features = X.columns\n",
    "indices = np.argsort(feature_importances)[::-1]  # Sort by importance\n",
    "\n",
    "plt.figure(figsize=(8, 6))\n",
    "plt.title(\"Feature Importance in Nanoparticle Toxicity Prediction\")\n",
    "plt.bar(range(X.shape[1]), feature_importances[indices], align=\"center\")\n",
    "plt.xticks(range(X.shape[1]), features[indices], rotation=45, ha=\"right\")\n",
    "plt.xlabel(\"Feature\")\n",
    "plt.ylabel(\"Importance Score\")\n",
    "plt.show()"
   ]
  },
  {
   "cell_type": "code",
   "execution_count": 102,
   "id": "e8675a1d-5c77-4d77-a6af-f5d6457045b0",
   "metadata": {},
   "outputs": [
    {
     "name": "stdout",
     "output_type": "stream",
     "text": [
      "Label encoders loaded successfully!\n"
     ]
    }
   ],
   "source": [
    "import pickle\n",
    "\n",
    "# Load the saved label encoders\n",
    "with open(\"label_encoders.pkl\", \"rb\") as f:\n",
    "    label_encoders = pickle.load(f)\n",
    "\n",
    "print(\"Label encoders loaded successfully!\")"
   ]
  },
  {
   "cell_type": "code",
   "execution_count": 103,
   "id": "86b9c96d-6d3e-425b-889c-0df615d149fc",
   "metadata": {},
   "outputs": [
    {
     "name": "stdout",
     "output_type": "stream",
     "text": [
      "Predicted Toxicity: Toxic\n"
     ]
    }
   ],
   "source": [
    "# Load label encoders\n",
    "with open(\"label_encoders.pkl\", \"rb\") as f:\n",
    "    label_encoders = pickle.load(f)\n",
    "\n",
    "# Define a new sample (ensure it matches feature structure)\n",
    "new_sample_df = pd.DataFrame([X_test.iloc[0].values], columns=X.columns)\n",
    "\n",
    "# Predict class\n",
    "prediction = loaded_model.predict(new_sample_df)\n",
    "\n",
    "# Convert back to original class labels\n",
    "predicted_class = label_encoders['class'].inverse_transform(prediction)\n",
    "\n",
    "print(\"Predicted Toxicity:\", predicted_class[0])"
   ]
  },
  {
   "cell_type": "code",
   "execution_count": 104,
   "id": "6d7bf1b6-a7f1-4506-b7df-2ae3a6c2ce9d",
   "metadata": {},
   "outputs": [
    {
     "name": "stdout",
     "output_type": "stream",
     "text": [
      "Model saved as nanotox_rf_model.pkl\n"
     ]
    }
   ],
   "source": [
    "import joblib\n",
    "\n",
    "# Save the trained model\n",
    "model_filename = \"nanotox_rf_model.pkl\"\n",
    "joblib.dump(rf_model, model_filename)\n",
    "\n",
    "print(f\"Model saved as {model_filename}\")"
   ]
  },
  {
   "cell_type": "code",
   "execution_count": null,
   "id": "2e6a6851-d137-4353-b9d3-5ffe446aa28b",
   "metadata": {},
   "outputs": [],
   "source": []
  }
 ],
 "metadata": {
  "kernelspec": {
   "display_name": "Python 3 (ipykernel)",
   "language": "python",
   "name": "python3"
  },
  "language_info": {
   "codemirror_mode": {
    "name": "ipython",
    "version": 3
   },
   "file_extension": ".py",
   "mimetype": "text/x-python",
   "name": "python",
   "nbconvert_exporter": "python",
   "pygments_lexer": "ipython3",
   "version": "3.12.4"
  }
 },
 "nbformat": 4,
 "nbformat_minor": 5
}
